{
  "nbformat": 4,
  "nbformat_minor": 0,
  "metadata": {
    "colab": {
      "provenance": [],
      "gpuType": "T4"
    },
    "kernelspec": {
      "name": "python3",
      "display_name": "Python 3"
    },
    "language_info": {
      "name": "python"
    },
    "accelerator": "GPU"
  },
  "cells": [
    {
      "cell_type": "markdown",
      "source": [
        "1-a)– Input the string “Python” as a list of characters from console, delete at least 2 characters, reversethe\n",
        "resultant string and print it.\n",
        "\n"
      ],
      "metadata": {
        "id": "FJCHjY30nQCJ"
      }
    },
    {
      "cell_type": "code",
      "execution_count": 5,
      "metadata": {
        "colab": {
          "base_uri": "https://localhost:8080/",
          "height": 0
        },
        "id": "EUPjqC8Mg9AT",
        "outputId": "f769dfd7-7f41-4674-ddf3-4329dd938d68"
      },
      "outputs": [
        {
          "output_type": "stream",
          "name": "stdout",
          "text": [
            "python\n",
            "htyp\n"
          ]
        }
      ],
      "source": [
        "val = input()\n",
        "if(len(val)>=2):\n",
        "  val=val[:len(val)-2] #removing of the last two characters of the input string\n",
        "  rev=val[::-1] #reversing of the string\n",
        "  print(rev) #printing the output\n",
        "else:\n",
        "  print(\"Reverse is not possible\")  #if length of the string is less than 2 other output\n"
      ]
    },
    {
      "cell_type": "markdown",
      "source": [
        "1-b)– Take two numbers from user and perform at least 4 arithmetic operations on them."
      ],
      "metadata": {
        "id": "qF6mlErPokwC"
      }
    },
    {
      "cell_type": "code",
      "source": [
        "inp1=int(input()) #input1 from user\n",
        "inp2=int(input()) #input2 from user\n",
        "res1=inp1+inp2 #addition operation\n",
        "print(\"add\",res1)\n",
        "res1=inp1-inp2 #subtraction operation\n",
        "print(\"subtract\",res1)\n",
        "res1=inp1*inp2 # multiplication operation\n",
        "print(\"multiply\",res1)\n",
        "res1=inp1/inp2 # division operation\n",
        "print(\"divide\",res1)\n",
        "res1=inp1%inp2 #remainder operation\n",
        "print('remainder',res1)\n",
        "res1 = inp1**inp2 #power operation\n",
        "print('power',res1)"
      ],
      "metadata": {
        "colab": {
          "base_uri": "https://localhost:8080/",
          "height": 0
        },
        "id": "7beohU4JlPcp",
        "outputId": "fc8d325c-934e-4a2a-8f78-4485d2421bca"
      },
      "execution_count": 6,
      "outputs": [
        {
          "output_type": "stream",
          "name": "stdout",
          "text": [
            "10\n",
            "20\n",
            "add 30\n",
            "subtract -10\n",
            "multiply 200\n",
            "divide 0.5\n",
            "remainder 10\n",
            "power 100000000000000000000\n"
          ]
        }
      ]
    },
    {
      "cell_type": "markdown",
      "source": [
        "2)Write a program that accepts a sentence and replace each occurrence of ‘python’ with ‘pythons’."
      ],
      "metadata": {
        "id": "l2eIIfpspd_p"
      }
    },
    {
      "cell_type": "code",
      "source": [
        "val=input() #user input\n",
        "print(val.replace('python','pythons')) #using inbuilt replace keyword for replacing the python with pythons"
      ],
      "metadata": {
        "colab": {
          "base_uri": "https://localhost:8080/",
          "height": 0
        },
        "id": "d2yGmvIsorGL",
        "outputId": "61851c79-be28-45bb-bf1a-aaaac0031910"
      },
      "execution_count": 7,
      "outputs": [
        {
          "output_type": "stream",
          "name": "stdout",
          "text": [
            "I love playing with python\n",
            "I love playing with pythons\n"
          ]
        }
      ]
    },
    {
      "cell_type": "markdown",
      "source": [
        "3)Use the if statement conditions to write a program to print the letter grade based on an input class score. Use the\n",
        "grading scheme we are using in this class."
      ],
      "metadata": {
        "id": "DMgwu4yqqjSc"
      }
    },
    {
      "cell_type": "code",
      "source": [
        "val=int(input(\"Enter class score \")) #user input\n",
        "if(val>=90): #if condition checking whether the user entered score greater than or equal to 90\n",
        "  print(\"Grade A\")\n",
        "if(val>=80 and val<90): #if condition checking whether the user entered score greater than or equal to 80 and less than 90\n",
        "  print(\"Grade B\")\n",
        "if(val>=70 and val<80): #if condition checking whether the user entered score greater than or equal to 70 and less than 80\n",
        "  print(\"Grade C\")\n",
        "if(val>=60 and val<70):  #if condition checking whether the user entered score greater than or equal to 60 and less than 70\n",
        "  print(\"Grade D\")\n",
        "if(val<60): #if condition checking whether the user entered score  less than 60\n",
        "  print(\"Grade F\")"
      ],
      "metadata": {
        "colab": {
          "base_uri": "https://localhost:8080/",
          "height": 0
        },
        "id": "NMOxx8YfpiLZ",
        "outputId": "97e99f73-bdc1-4ec6-9e08-ecd754dd4e95"
      },
      "execution_count": 8,
      "outputs": [
        {
          "output_type": "stream",
          "name": "stdout",
          "text": [
            "Enter class score 55\n",
            "Grade F\n"
          ]
        }
      ]
    }
  ]
}