{
  "nbformat": 4,
  "nbformat_minor": 0,
  "metadata": {
    "colab": {
      "provenance": []
    },
    "kernelspec": {
      "name": "python3",
      "display_name": "Python 3"
    },
    "language_info": {
      "name": "python"
    }
  },
  "cells": [
    {
      "cell_type": "markdown",
      "source": [
        "1. Write a program that takes two strings from the user: first_name, last_name. Pass these variables to\n",
        "fullname function that should return the (full name).\n",
        "o For example:\n",
        "▪ First_name = “your first name”, last_name = “your last name”\n",
        "▪ Full_name = “your full name”\n",
        "o Write function named “string_alternative” that returns every other char in the full_name string.\n",
        "Str = “Good evening”\n",
        "Output: Go vnn\n",
        "Note: You need to create a function named “string_alternative” for this program and call it from\n",
        "main function"
      ],
      "metadata": {
        "id": "2hlep0zp-AhN"
      }
    },
    {
      "cell_type": "code",
      "execution_count": null,
      "metadata": {
        "colab": {
          "base_uri": "https://localhost:8080/"
        },
        "id": "dxnN9tOUgxRS",
        "outputId": "e871621a-70e3-4de2-af1a-30cf937439b6"
      },
      "outputs": [
        {
          "output_type": "stream",
          "name": "stdout",
          "text": [
            "karan\n",
            "singh\n",
            "karan singh\n",
            "krnsnh\n"
          ]
        }
      ],
      "source": [
        "def fullname(first,last):\n",
        "  str=first+\" \"+last\n",
        "  return str\n",
        "def string_alternative(final):\n",
        "  newstr=final[::2]\n",
        "  return newstr\n",
        "first=input()\n",
        "last=input()\n",
        "final=fullname(first,last)\n",
        "print(final)\n",
        "alternate=string_alternative(final)\n",
        "print(alternate)\n"
      ]
    },
    {
      "cell_type": "markdown",
      "source": [
        "2. Write a python program to find the wordcount in a file (input.txt) for each line and then print the output.\n",
        "o Finally store the output in output.txt file.\n",
        "Example:\n",
        "Input: a file includes two lines:\n",
        "Python Course\n",
        "Deep Learning Course\n",
        "Output:\n",
        "Python Course\n",
        "Deep Learning Course\n",
        "Word_Count:\n",
        "Python: 1\n",
        "Course: 2\n",
        "Deep: 1\n",
        "Learning: 1"
      ],
      "metadata": {
        "id": "NkVx9PLx_qA6"
      }
    },
    {
      "cell_type": "code",
      "source": [
        "file1 = open(\"input.txt\",\"r\")\n",
        "string=file1.read()\n",
        "file2 = open(\"output.txt\",\"w+\")\n",
        "words= dict()\n",
        "sep_words= string.split()\n",
        "for i in sep_words:\n",
        "        if i in words:\n",
        "            words[i] += 1\n",
        "        else:\n",
        "            words[i] = 1\n",
        "file2.write(\"Word_Count: \"+str(words))\n",
        "\n",
        "file2.close()"
      ],
      "metadata": {
        "id": "kcCChcXO_u1b"
      },
      "execution_count": null,
      "outputs": []
    },
    {
      "cell_type": "markdown",
      "source": [
        "3.Write a program, which reads heights (inches.) of customers into a list and convert these\n",
        "heights to centimeters in a separate list using:\n",
        "1) Nested Interactive loop.\n",
        "2) List comprehensions\n"
      ],
      "metadata": {
        "id": "TI6dusmF_-st"
      }
    },
    {
      "cell_type": "markdown",
      "source": [
        "i)Nested Interactive loop"
      ],
      "metadata": {
        "id": "sgW722rGd8vy"
      }
    },
    {
      "cell_type": "code",
      "source": [
        "L=[]\n",
        "O=[]\n",
        "x=int(input(\"No of heights\"))\n",
        "for i in range(x):\n",
        "  L.append(float(input()))\n",
        "for j in range(x):\n",
        "  O.append(L[j]/2.205)\n",
        "print(O)\n"
      ],
      "metadata": {
        "colab": {
          "base_uri": "https://localhost:8080/"
        },
        "id": "s-_A8oe_iZs1",
        "outputId": "8398fdfb-f089-4486-bb5d-d9c1a8481ab8"
      },
      "execution_count": null,
      "outputs": [
        {
          "output_type": "stream",
          "name": "stdout",
          "text": [
            "No of heights4\n",
            "150\n",
            "145\n",
            "155\n",
            "148\n",
            "[68.02721088435374, 65.75963718820861, 70.29478458049887, 67.12018140589569]\n"
          ]
        }
      ]
    },
    {
      "cell_type": "markdown",
      "source": [
        "ii) List Comprehension"
      ],
      "metadata": {
        "id": "iA9MAlM6eCbQ"
      }
    },
    {
      "cell_type": "code",
      "source": [
        "x=int(input())\n",
        "L=list(map(float, input().strip().split()))[:x]\n",
        "O = [i /2.205 for i in L]\n",
        "print(O)"
      ],
      "metadata": {
        "id": "edaRyELgr7Ek",
        "colab": {
          "base_uri": "https://localhost:8080/"
        },
        "outputId": "f0705307-1699-48db-92fd-89fcd94db9cc"
      },
      "execution_count": 1,
      "outputs": [
        {
          "output_type": "stream",
          "name": "stdout",
          "text": [
            "4\n",
            "150 155 145 148\n",
            "[68.02721088435374, 70.29478458049887, 65.75963718820861, 67.12018140589569]\n"
          ]
        }
      ]
    }
  ]
}